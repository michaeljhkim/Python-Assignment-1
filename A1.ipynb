{
 "cells": [
  {
   "cell_type": "markdown",
   "metadata": {
    "deletable": false,
    "editable": false,
    "nbgrader": {
     "cell_type": "markdown",
     "checksum": "91f5eaaec5744ee1333f2cf412ed1682",
     "grade": false,
     "grade_id": "cell-4dfc4f73f62608f9",
     "locked": true,
     "schema_version": 3,
     "solution": false,
     "task": false
    }
   },
   "source": [
    "# Assignment 1\n",
    "\n",
    "## Maximum Grade: 24 / 20\n",
    "\n",
    "The purpose of this is assignment is to:\n",
    "\n",
    "1. Become familiar with the Python programming language.\n",
    "2. Become familiar with Jupyter Notebooks.\n",
    "3. Understand how to test your own code solutions.\n",
    "\n",
    "You can either Download this notebook and embed your answers within it, or you can submit your answers on the JupyterHub.\n"
   ]
  },
  {
   "cell_type": "markdown",
   "metadata": {
    "deletable": false,
    "editable": false,
    "nbgrader": {
     "cell_type": "markdown",
     "checksum": "b7508559c799d619f03df75dc0fab7f4",
     "grade": false,
     "grade_id": "cell-efb0c5153569ca6a",
     "locked": true,
     "schema_version": 3,
     "solution": false,
     "task": false
    }
   },
   "source": [
    "## Run The Following Cell ALWAYS\n",
    "\n",
    "For simplicity, I have made a `tester` function that will take two answers and compare them. \n",
    "\n",
    "- If your test case was answered correctly, you will see `\"You Passed!\"`\n",
    "- However, if you are wrong, you will see a message `\"You Failed:\"` followed by `\"your_answer != expected_answer\"`\n",
    "\n",
    "If you don't run this block of code, you will not be able to run ANY test cases below it.\n",
    "\n",
    "Also note, just because a test cases says `\"You Passed!\"`, that doesn't mean you have automatically received a 100% on the question. It just means you passed 1 test case. You can pass all public test cases and still get a 0 on a question."
   ]
  },
  {
   "cell_type": "code",
   "execution_count": 45,
   "metadata": {
    "deletable": false,
    "editable": false,
    "nbgrader": {
     "cell_type": "code",
     "checksum": "8e0c574f2cf64e4ab8f9f6cc1d166cba",
     "grade": false,
     "grade_id": "cell-af6970972f5ed5c1",
     "locked": true,
     "schema_version": 3,
     "solution": false,
     "task": false
    }
   },
   "outputs": [],
   "source": [
    "def tester(a, b = True):\n",
    "    return \"You Passed!\" if a == b else f\"You Failed: {a} != {b}\""
   ]
  },
  {
   "cell_type": "markdown",
   "metadata": {
    "deletable": false,
    "editable": false,
    "nbgrader": {
     "cell_type": "markdown",
     "checksum": "06f9d22400fe09ecc56ba9ca8cc85f0e",
     "grade": false,
     "grade_id": "cell-275cecdc777d8f0a",
     "locked": true,
     "schema_version": 3,
     "solution": false,
     "task": false
    }
   },
   "source": [
    "# Practice Question (No grade):\n",
    "\n",
    "This example question is to give you an idea of how to build a basic function and call it in test cases. We are going to format all the questions the same way because they are automatically graded, so what you see now is what you will always see.\n",
    "\n",
    "For this example, we are going to write a function that takes in 3 numbers and adds them all together.\n",
    "\n",
    "A function can be broken down into 5 pieces:\n",
    "\n",
    "1. Declaration: You tell Python that the function is starting using the `def` keyword. Python then knows everything indented after the `def` keyword is part of the function.\n",
    "2. Name: The name of the function is the first thing you write after the `def` keyword.\n",
    "3. Parameters: The parameters are the variables that are used inside the function. They can have any name you like, but they must be separated by commas and be valid variable names.\n",
    "4. Body: The body of the function is everything that is indented after the parameters.\n",
    "5. Return: The return statement is used to return a value from the function back to the code that called it.\n",
    "\n",
    "For our situation, we will be calling the function `add_numbers` and giving it 3 parameters. Then we will define the body of the function to be something like `s = x + y + z` with the return statement at the end just being `return s`."
   ]
  },
  {
   "cell_type": "code",
   "execution_count": 46,
   "metadata": {
    "deletable": false,
    "nbgrader": {
     "cell_type": "code",
     "checksum": "eda2160625d217c0baea084163ca0e6e",
     "grade": false,
     "grade_id": "cell-5ba0d714b850f7d8",
     "locked": false,
     "schema_version": 3,
     "solution": true,
     "task": false
    }
   },
   "outputs": [],
   "source": [
    "def add_numbers(x, y, z):\n",
    "    # Your code here\n",
    "    s = 0\n",
    "    return s\n"
   ]
  },
  {
   "cell_type": "markdown",
   "metadata": {
    "deletable": false,
    "editable": false,
    "nbgrader": {
     "cell_type": "markdown",
     "checksum": "72083c87f8f71c8ef698a91e33a6b9b1",
     "grade": false,
     "grade_id": "cell-16ec1ede90a24900",
     "locked": true,
     "schema_version": 3,
     "solution": false,
     "task": false
    }
   },
   "source": [
    "After the function is defined, you will be able to test the function. Everytime you run the cell, the code updates and you can see the output.\n",
    "\n",
    "We use the `assert` keyword to test the function. The `assert` keyword is used to test if something is true or false. If it is true, then the test passes. If it is false, then the test fails. When `assert` recieves false, it will print an error messasge. Actually read that messaage, because it will give you hints as to the problem with your code.\n",
    "\n",
    "If you make even the smallest change, you need to rerun the cell with the function to see the output match that change.\n",
    "\n",
    "Also note, the auto grader does not grade you on the public test cases. You can still submit your code and get a grade on the private test cases. Just because you pass every public test doesn't mean you will get a perfect score on the private test cases."
   ]
  },
  {
   "cell_type": "code",
   "execution_count": 47,
   "metadata": {
    "deletable": false,
    "editable": false,
    "nbgrader": {
     "cell_type": "code",
     "checksum": "b0fcc14c8ed66cec6b94e447af395714",
     "grade": false,
     "grade_id": "cell-51dc33523baf748c",
     "locked": true,
     "schema_version": 3,
     "solution": false,
     "task": false
    }
   },
   "outputs": [
    {
     "ename": "AssertionError",
     "evalue": "",
     "output_type": "error",
     "traceback": [
      "\u001b[0;31m---------------------------------------------------------------------------\u001b[0m",
      "\u001b[0;31mAssertionError\u001b[0m                            Traceback (most recent call last)",
      "\u001b[0;32m<ipython-input-47-a74feaf3b8b7>\u001b[0m in \u001b[0;36m<module>\u001b[0;34m\u001b[0m\n\u001b[1;32m      1\u001b[0m \u001b[0;31m# This test case is correct and will print nothing\u001b[0m\u001b[0;34m\u001b[0m\u001b[0;34m\u001b[0m\u001b[0;34m\u001b[0m\u001b[0m\n\u001b[0;32m----> 2\u001b[0;31m \u001b[0;32massert\u001b[0m\u001b[0;34m(\u001b[0m\u001b[0madd_numbers\u001b[0m\u001b[0;34m(\u001b[0m\u001b[0;36m1\u001b[0m\u001b[0;34m,\u001b[0m \u001b[0;36m2\u001b[0m\u001b[0;34m,\u001b[0m \u001b[0;36m3\u001b[0m\u001b[0;34m)\u001b[0m \u001b[0;34m==\u001b[0m \u001b[0;36m6\u001b[0m\u001b[0;34m)\u001b[0m\u001b[0;34m\u001b[0m\u001b[0;34m\u001b[0m\u001b[0m\n\u001b[0m",
      "\u001b[0;31mAssertionError\u001b[0m: "
     ]
    }
   ],
   "source": [
    "# This test case is correct and will print nothing\n",
    "assert(add_numbers(1, 2, 3) == 6)"
   ]
  },
  {
   "cell_type": "code",
   "execution_count": null,
   "metadata": {},
   "outputs": [],
   "source": [
    "# This is what a failed test case looks like!\n",
    "# Try fixing it!\n",
    "assert(add_numbers(2, 4, 6) == 10) # Should be 12!"
   ]
  },
  {
   "cell_type": "code",
   "execution_count": null,
   "metadata": {
    "deletable": false,
    "editable": false,
    "nbgrader": {
     "cell_type": "code",
     "checksum": "41ebd474f2938e02ca36480f29493617",
     "grade": true,
     "grade_id": "cell-e3977a132c0e6e01",
     "locked": true,
     "points": 0,
     "schema_version": 3,
     "solution": false,
     "task": false
    }
   },
   "outputs": [],
   "source": [
    "# A test cell like this is a private test case. You can't edit it or see what is in it, but it still exists in the notebook."
   ]
  },
  {
   "cell_type": "code",
   "execution_count": null,
   "metadata": {
    "deletable": false,
    "editable": false,
    "nbgrader": {
     "cell_type": "code",
     "checksum": "b6d311ad345c896174a2e9b5aa29b34f",
     "grade": true,
     "grade_id": "cell-2a544b7d0dcf9c13",
     "locked": true,
     "points": 0,
     "schema_version": 3,
     "solution": false,
     "task": false
    }
   },
   "outputs": [],
   "source": []
  },
  {
   "cell_type": "markdown",
   "metadata": {
    "deletable": false,
    "editable": false,
    "nbgrader": {
     "cell_type": "markdown",
     "checksum": "66c4e20d558b0a4bc06ea0e1c6b19f54",
     "grade": false,
     "grade_id": "cell-f057298076acda46",
     "locked": true,
     "schema_version": 3,
     "solution": false,
     "task": false
    }
   },
   "source": [
    "# Question 1: Order of Operations (1 point)\n",
    "\n",
    "We all have heard of BEDMAS, but how does Python interact with it? Well, let's find out. This question is to test your ability to make a test case that passes when you are using BEDMAS correctly.\n",
    "\n",
    "Below is a function premade for you, but it has some mistakes with BEDMAS. You are going to go through each line and correct the BEDMAS mistakes.\n",
    "\n",
    "**Note:** You are only expected to add brackets to fix the BEDMAS. You can move around operations if needed, but brackets are just fine!\n",
    "\n",
    "Every line of code shown will tell you what the number should be going out, vs what is actually going out. You need to correct the BEDMAS to make sure the number is correct."
   ]
  },
  {
   "cell_type": "code",
   "execution_count": 48,
   "metadata": {
    "deletable": false,
    "nbgrader": {
     "cell_type": "code",
     "checksum": "dda734cbaaa8935b63d00d54072ed23b",
     "grade": false,
     "grade_id": "cell-88a8f6d6b9832ff9",
     "locked": false,
     "schema_version": 3,
     "solution": true,
     "task": false
    }
   },
   "outputs": [
    {
     "name": "stdout",
     "output_type": "stream",
     "text": [
      "639.0\n"
     ]
    }
   ],
   "source": [
    "def question1():\n",
    "    line1 = (1 + 1) * 3 / 6  # Current: 1.5 | Correct: 1\n",
    "    line2 = (-1 * 2) ** 4 - 3 # Current: -19 | Correct: 13\n",
    "    line3 = ((4 * 2) - 3) ** 4 # Current: -73 | Correct: 625\n",
    "    \n",
    "    return line1 + line2 + line3 # Current: -90.5 | Correct: 639\n",
    "\n",
    "# This function should print 639 (or 639.0) when correct!\n",
    "\n",
    "print(question1())"
   ]
  },
  {
   "cell_type": "code",
   "execution_count": null,
   "metadata": {
    "deletable": false,
    "editable": false,
    "nbgrader": {
     "cell_type": "code",
     "checksum": "32a4f8261844226f49567f9f316dca2f",
     "grade": true,
     "grade_id": "cell-8645a0a10aff1b43",
     "locked": true,
     "points": 1,
     "schema_version": 3,
     "solution": false,
     "task": false
    }
   },
   "outputs": [],
   "source": []
  },
  {
   "cell_type": "markdown",
   "metadata": {
    "deletable": false,
    "editable": false,
    "nbgrader": {
     "cell_type": "markdown",
     "checksum": "f519acf9c2276d88cafbe889bbcc9583",
     "grade": false,
     "grade_id": "cell-bc877befc10f87d8",
     "locked": true,
     "schema_version": 3,
     "solution": false,
     "task": false
    }
   },
   "source": [
    "# Question 2a: Time in Minutes (3 points)\n",
    "\n",
    "You know what is always stuck in my head? That one line from the Rent Musical Soundtrack: 525600 minutes. How do you measure, measure a year?\n",
    "\n",
    "So we are going to write a function called `minutes` that takes in a time in days, hours, and minutes, and return the entire thing in minutes!\n",
    "\n",
    "You are going to need the `*` operator to convert the units, but this is pretty straight forward."
   ]
  },
  {
   "cell_type": "code",
   "execution_count": 49,
   "metadata": {
    "deletable": false,
    "nbgrader": {
     "cell_type": "code",
     "checksum": "ee38c2e527e0aa5ae2bb97251a536b14",
     "grade": false,
     "grade_id": "cell-81a92927d19c0a50",
     "locked": false,
     "schema_version": 3,
     "solution": true,
     "task": false
    }
   },
   "outputs": [],
   "source": [
    "def minutes(days, hours, minutes):\n",
    "    minutes = (hours*60) + (days*24*60) + minutes\n",
    "    \n",
    "    return minutes\n",
    "# You can add test cases below your function if you wanted to!"
   ]
  },
  {
   "cell_type": "markdown",
   "metadata": {
    "deletable": false,
    "editable": false,
    "nbgrader": {
     "cell_type": "markdown",
     "checksum": "a3c20e88ad813214a4e946c0bb165258",
     "grade": false,
     "grade_id": "cell-e98f5b1bf0dafb18",
     "locked": true,
     "schema_version": 3,
     "solution": false,
     "task": false
    }
   },
   "source": [
    "Here are some test cases for you, but you should always make your own! Remember, you want `assert` to print nothing if you use it!"
   ]
  },
  {
   "cell_type": "code",
   "execution_count": 51,
   "metadata": {
    "deletable": false,
    "editable": false,
    "nbgrader": {
     "cell_type": "code",
     "checksum": "e87e7f6500e74c21a0d0d44b420f41fa",
     "grade": false,
     "grade_id": "cell-a42b3e4d293921be",
     "locked": true,
     "schema_version": 3,
     "solution": false,
     "task": false
    }
   },
   "outputs": [
    {
     "name": "stdout",
     "output_type": "stream",
     "text": [
      "Question #2a - Test Case #1: You Passed!\n",
      "Question #2a - Test Case #2: You Passed!\n",
      "Question #2a - Test Case #3: You Passed!\n"
     ]
    }
   ],
   "source": [
    "print(\"Question #2a - Test Case #1:\", \n",
    "      tester(minutes(1, 0, 0), 1440))\n",
    "print(\"Question #2a - Test Case #2:\", \n",
    "      tester(minutes(1, 1, 1), 1501))\n",
    "print(\"Question #2a - Test Case #3:\", \n",
    "      tester(minutes(96728, 5472, 15234), 139631874))"
   ]
  },
  {
   "cell_type": "code",
   "execution_count": null,
   "metadata": {
    "deletable": false,
    "editable": false,
    "nbgrader": {
     "cell_type": "code",
     "checksum": "47cae357ba3673b323b7705f4a336b1e",
     "grade": true,
     "grade_id": "cell-e740f4b3c2b18868",
     "locked": true,
     "points": 1,
     "schema_version": 3,
     "solution": false,
     "task": false
    }
   },
   "outputs": [],
   "source": []
  },
  {
   "cell_type": "code",
   "execution_count": null,
   "metadata": {
    "deletable": false,
    "editable": false,
    "nbgrader": {
     "cell_type": "code",
     "checksum": "f5835d38e536cd820e656620592ca1d9",
     "grade": true,
     "grade_id": "cell-3a1dd99db5749297",
     "locked": true,
     "points": 1,
     "schema_version": 3,
     "solution": false,
     "task": false
    }
   },
   "outputs": [],
   "source": []
  },
  {
   "cell_type": "code",
   "execution_count": null,
   "metadata": {
    "deletable": false,
    "editable": false,
    "nbgrader": {
     "cell_type": "code",
     "checksum": "a226b1926153f2f4d9bde8735b9edb4f",
     "grade": true,
     "grade_id": "cell-801345708be0335d",
     "locked": true,
     "points": 1,
     "schema_version": 3,
     "solution": false,
     "task": false
    }
   },
   "outputs": [],
   "source": []
  },
  {
   "cell_type": "markdown",
   "metadata": {
    "deletable": false,
    "editable": false,
    "nbgrader": {
     "cell_type": "markdown",
     "checksum": "2bc395886e26629cb6f2bcf43aa23dc6",
     "grade": false,
     "grade_id": "cell-7c2a6fcfa0f8aa64",
     "locked": true,
     "schema_version": 3,
     "solution": false,
     "task": false
    }
   },
   "source": [
    "# Question 2b: Now in Reverse! (4 points)\n",
    "\n",
    "Uno reverse card! We are going to do the previous problem, but in reverse.\n",
    "\n",
    "So we are going to write a function called `daysHoursMinutes` that takes in a time in in minutes, and returns how the equivalent Days, Hours, and Minutes. So 1440 minutes returns 1 day, 0 hours, and 0 minutes.\n",
    "\n",
    "We will need to return multiple values in this function, so we will wrap parentheses around the return statement. This makes a `\"Tuple\"`, which is just a combined series of items. You learn more about this later in the course.\n",
    "\n",
    "This question can be pretty tricky. Two very awesome operators are `//` and `%`. `//` is the floor division operator. It will return the largest whole number that is less than or equal to the number you are dividing. `%` is the modulus operator. It will return the remainder of the division."
   ]
  },
  {
   "cell_type": "code",
   "execution_count": 52,
   "metadata": {
    "deletable": false,
    "nbgrader": {
     "cell_type": "code",
     "checksum": "322f95b0b6585db5f0ef532d3e11bdf0",
     "grade": false,
     "grade_id": "cell-9a41f46cbec42433",
     "locked": false,
     "schema_version": 3,
     "solution": true,
     "task": false
    }
   },
   "outputs": [],
   "source": [
    "def daysHoursMinutes(minutes):\n",
    "    # YOUR CODE HERE\n",
    "    days = minutes//(24*60)\n",
    "    \n",
    "    minutes %= (24*60)\n",
    "    \n",
    "    hours = minutes//60\n",
    "    \n",
    "    minutes %= 60 \n",
    "    \n",
    "    return (days, hours, minutes)"
   ]
  },
  {
   "cell_type": "code",
   "execution_count": 53,
   "metadata": {
    "deletable": false,
    "editable": false,
    "nbgrader": {
     "cell_type": "code",
     "checksum": "bd43cf38ecc78b7b2a655017d99ab184",
     "grade": false,
     "grade_id": "cell-a7f419e90fd1519e",
     "locked": true,
     "schema_version": 3,
     "solution": false,
     "task": false
    }
   },
   "outputs": [
    {
     "name": "stdout",
     "output_type": "stream",
     "text": [
      "Question #2b - Test Case #1: You Passed!\n",
      "Question #2b - Test Case #2: You Passed!\n",
      "Question #2b - Test Case #3: You Passed!\n"
     ]
    }
   ],
   "source": [
    "print(\"Question #2b - Test Case #1:\", \n",
    "      tester(daysHoursMinutes(60), (0, 1, 0)))\n",
    "print(\"Question #2b - Test Case #2:\", \n",
    "      tester(daysHoursMinutes(2000), (1, 9, 20)))\n",
    "print(\"Question #2b - Test Case #3:\", \n",
    "      tester(daysHoursMinutes(93665926), (65045, 18, 46)))"
   ]
  },
  {
   "cell_type": "code",
   "execution_count": null,
   "metadata": {
    "deletable": false,
    "editable": false,
    "nbgrader": {
     "cell_type": "code",
     "checksum": "34964ee304ad12985571d99004649c03",
     "grade": true,
     "grade_id": "cell-b34ca8780e21b781",
     "locked": true,
     "points": 1,
     "schema_version": 3,
     "solution": false,
     "task": false
    }
   },
   "outputs": [],
   "source": []
  },
  {
   "cell_type": "code",
   "execution_count": null,
   "metadata": {
    "deletable": false,
    "editable": false,
    "nbgrader": {
     "cell_type": "code",
     "checksum": "5c455febeeba1c4cbb2db325a25334b9",
     "grade": true,
     "grade_id": "cell-1fc2964d4ffea270",
     "locked": true,
     "points": 1,
     "schema_version": 3,
     "solution": false,
     "task": false
    }
   },
   "outputs": [],
   "source": []
  },
  {
   "cell_type": "code",
   "execution_count": null,
   "metadata": {
    "deletable": false,
    "editable": false,
    "nbgrader": {
     "cell_type": "code",
     "checksum": "fd7c4d3eb0e1aa50384f273836f4400c",
     "grade": true,
     "grade_id": "cell-7f2ef4d4b59621ae",
     "locked": true,
     "points": 1,
     "schema_version": 3,
     "solution": false,
     "task": false
    }
   },
   "outputs": [],
   "source": []
  },
  {
   "cell_type": "code",
   "execution_count": null,
   "metadata": {
    "deletable": false,
    "editable": false,
    "nbgrader": {
     "cell_type": "code",
     "checksum": "854ee36fccc1b6cc829580c3191c7eca",
     "grade": true,
     "grade_id": "cell-cf323daceddf831f",
     "locked": true,
     "points": 1,
     "schema_version": 3,
     "solution": false,
     "task": false
    }
   },
   "outputs": [],
   "source": []
  },
  {
   "cell_type": "markdown",
   "metadata": {
    "deletable": false,
    "editable": false,
    "nbgrader": {
     "cell_type": "markdown",
     "checksum": "fa33d1bb13fda037cf7c0728288a0660",
     "grade": false,
     "grade_id": "cell-a224d8bea75b1514",
     "locked": true,
     "schema_version": 3,
     "solution": false,
     "task": false
    }
   },
   "source": [
    "# Question 3a: Compound Interest (2 points)\n",
    "\n",
    "If `p` was the bank's interest rate percentage in decimal form (i.e. `0.05 == 5%`), `a` was your initial dollar amount going in, and `n` was the number of years, then the compound interest formula would be:\n",
    "\n",
    "$$ I = a \\cdot (1 + p)^n $$\n",
    "\n",
    "The goal of the `growth` function is to return your compound interest, `I`. To do so, you will take in `a`, `p`, and `n` and return `I`.\n",
    "\n",
    "You can assume the following:\n",
    "\n",
    "1. `p` is a floating point number between 0 and 1.\n",
    "2. All inputs are non-negative numbers."
   ]
  },
  {
   "cell_type": "code",
   "execution_count": 54,
   "metadata": {
    "deletable": false,
    "nbgrader": {
     "cell_type": "code",
     "checksum": "3fbae8c2f82f71809d31d2a8d5855ce4",
     "grade": false,
     "grade_id": "cell-32f1e9bb6e8c2877",
     "locked": false,
     "schema_version": 3,
     "solution": true,
     "task": false
    }
   },
   "outputs": [],
   "source": [
    "def growth(a, p, n):\n",
    "    I = a*(1+p)**n\n",
    "    return I"
   ]
  },
  {
   "cell_type": "code",
   "execution_count": 55,
   "metadata": {
    "deletable": false,
    "editable": false,
    "nbgrader": {
     "cell_type": "code",
     "checksum": "43e87eaf22c9e86831eac5fd8fa13a08",
     "grade": false,
     "grade_id": "cell-613c73305a8c91df",
     "locked": true,
     "schema_version": 3,
     "solution": false,
     "task": false
    }
   },
   "outputs": [
    {
     "name": "stdout",
     "output_type": "stream",
     "text": [
      "Question #3a - Test Case #1: You Passed!\n",
      "Question #3a - Test Case #2: You Passed!\n",
      "Question #3a - Test Case #3: You Passed!\n"
     ]
    }
   ],
   "source": [
    "from math import isclose # Will tell you if a number is close to the answer\n",
    "\n",
    "print(\"Question #3a - Test Case #1:\", \n",
    "      tester(isclose(\n",
    "          growth(340000, 0.0314, 25),\n",
    "          736473.447868039,\n",
    "          rel_tol=1e-4 # Accurate to 4 decimal places\n",
    "      )))\n",
    "print(\"Question #3a - Test Case #2:\", \n",
    "      tester(isclose(\n",
    "          growth(10, 0.01, 10),\n",
    "          11.046221254112044,\n",
    "          rel_tol=1e-4 # Accurate to 4 decimal places\n",
    "      )))\n",
    "print(\"Question #3a - Test Case #3:\", \n",
    "      tester(isclose(\n",
    "          growth(65, 100, 3),\n",
    "          66969565,\n",
    "          rel_tol=1e-4 # Accurate to 4 decimal places\n",
    "      )))"
   ]
  },
  {
   "cell_type": "code",
   "execution_count": null,
   "metadata": {
    "deletable": false,
    "editable": false,
    "nbgrader": {
     "cell_type": "code",
     "checksum": "30242728d14316db1ae48a74303fc95f",
     "grade": true,
     "grade_id": "cell-1f71756c37ad5e68",
     "locked": true,
     "points": 1,
     "schema_version": 3,
     "solution": false,
     "task": false
    }
   },
   "outputs": [],
   "source": []
  },
  {
   "cell_type": "code",
   "execution_count": null,
   "metadata": {
    "deletable": false,
    "editable": false,
    "nbgrader": {
     "cell_type": "code",
     "checksum": "1692e0062dae2d72b3f0fdfbdb658310",
     "grade": true,
     "grade_id": "cell-a7b45fc54a4b154a",
     "locked": true,
     "points": 0.5,
     "schema_version": 3,
     "solution": false,
     "task": false
    }
   },
   "outputs": [],
   "source": []
  },
  {
   "cell_type": "code",
   "execution_count": null,
   "metadata": {
    "deletable": false,
    "editable": false,
    "nbgrader": {
     "cell_type": "code",
     "checksum": "28afc88801c16b27cc36ff82d96f2290",
     "grade": true,
     "grade_id": "cell-71944eca33e77bc4",
     "locked": true,
     "points": 0.5,
     "schema_version": 3,
     "solution": false,
     "task": false
    }
   },
   "outputs": [],
   "source": []
  },
  {
   "cell_type": "markdown",
   "metadata": {
    "deletable": false,
    "editable": false,
    "nbgrader": {
     "cell_type": "markdown",
     "checksum": "7aaa6c3a92b8066ab39a8f9eaa0d6246",
     "grade": false,
     "grade_id": "cell-f0a88094198d097f",
     "locked": true,
     "schema_version": 3,
     "solution": false,
     "task": false
    }
   },
   "source": [
    "# Question 3b: Difference in Compount Interest (2 point)\n",
    "\n",
    "What is the difference between 2% and 1% over 20 years? Let's find out!\n",
    "\n",
    "Make `question3b` return the difference in compund interest between \n",
    "- 2000 dollars at 2\\% over 20 years \n",
    "- 2000 dollars at 1\\% over 20 years.\n",
    "\n",
    "The result needs to be:\n",
    "- Strictly Positive - The `abs` function is your friend.\n",
    "- Rounded to 2 decimals - The `round` function is your friend.\n",
    "\n",
    "You will need to call the `growth` function from the earlier question."
   ]
  },
  {
   "cell_type": "code",
   "execution_count": 56,
   "metadata": {
    "deletable": false,
    "nbgrader": {
     "cell_type": "code",
     "checksum": "73bfc3ca5d7ea66d31f95a19a1079d13",
     "grade": false,
     "grade_id": "cell-8b5c68e11e159291",
     "locked": false,
     "schema_version": 3,
     "solution": true,
     "task": false
    }
   },
   "outputs": [
    {
     "name": "stdout",
     "output_type": "stream",
     "text": [
      "531.51\n"
     ]
    }
   ],
   "source": [
    "def question3b():    \n",
    "    return round( (abs(growth(2000,0.02,20) - growth(2000,0.01,20)), 2 )\n"
   ]
  },
  {
   "cell_type": "code",
   "execution_count": 57,
   "metadata": {
    "deletable": false,
    "editable": false,
    "nbgrader": {
     "cell_type": "code",
     "checksum": "65777096062a9a2358213a49b98bb2b5",
     "grade": false,
     "grade_id": "cell-fc4687c7465d7c5a",
     "locked": true,
     "schema_version": 3,
     "solution": false,
     "task": false
    }
   },
   "outputs": [
    {
     "name": "stdout",
     "output_type": "stream",
     "text": [
      "Question #3b - Test Case: 531.51\n"
     ]
    }
   ],
   "source": [
    "# It is up to you to determine if this number is correct.\n",
    "print(\"Question #3b - Test Case:\", question3b())"
   ]
  },
  {
   "cell_type": "code",
   "execution_count": null,
   "metadata": {
    "deletable": false,
    "editable": false,
    "nbgrader": {
     "cell_type": "code",
     "checksum": "499229ad89df1c4a44ef21ee7f24993d",
     "grade": true,
     "grade_id": "cell-4d98d69ce7502324",
     "locked": true,
     "points": 0.5,
     "schema_version": 3,
     "solution": false,
     "task": false
    }
   },
   "outputs": [],
   "source": []
  },
  {
   "cell_type": "code",
   "execution_count": null,
   "metadata": {
    "deletable": false,
    "editable": false,
    "nbgrader": {
     "cell_type": "code",
     "checksum": "702611364d872421b5e9036b9c2e9baa",
     "grade": true,
     "grade_id": "cell-b0831a6b190c511c",
     "locked": true,
     "points": 0.5,
     "schema_version": 3,
     "solution": false,
     "task": false
    }
   },
   "outputs": [],
   "source": []
  },
  {
   "cell_type": "code",
   "execution_count": null,
   "metadata": {
    "deletable": false,
    "editable": false,
    "nbgrader": {
     "cell_type": "code",
     "checksum": "84a008c2588ef67af3f21dc5270ae626",
     "grade": true,
     "grade_id": "cell-398bf26a28916181",
     "locked": true,
     "points": 0.5,
     "schema_version": 3,
     "solution": false,
     "task": false
    }
   },
   "outputs": [],
   "source": []
  },
  {
   "cell_type": "code",
   "execution_count": null,
   "metadata": {
    "deletable": false,
    "editable": false,
    "nbgrader": {
     "cell_type": "code",
     "checksum": "97431bdaeda302d0c404f381b822913c",
     "grade": true,
     "grade_id": "cell-26977465de081ff1",
     "locked": true,
     "points": 0.5,
     "schema_version": 3,
     "solution": false,
     "task": false
    }
   },
   "outputs": [],
   "source": []
  },
  {
   "cell_type": "markdown",
   "metadata": {
    "deletable": false,
    "editable": false,
    "nbgrader": {
     "cell_type": "markdown",
     "checksum": "25bf9e9ba3923fb77cfe35604c7c1a43",
     "grade": false,
     "grade_id": "cell-eea3f0e9ccb01cf5",
     "locked": true,
     "schema_version": 3,
     "solution": false,
     "task": false
    }
   },
   "source": [
    "# Question 4: Heron's Formula (3 points)\n",
    "\n",
    "The real world is famous for not giving you all of the things you need to complete a problem. You are going to have to do some reading and research yourself.\n",
    "\n",
    "Heron's formula is a famous formula for calculating the area of a triangle. It is a very simple formula, but it is very useful.\n",
    "\n",
    "Write a function `heron` that takes in the length of the three sides of a triangle and returns the area of the triangle. You will not be given the formula, so you will need to Google it.\n",
    "\n",
    "You will be using the `math` library to get access to the `sqrt` function, so maybe also Google how to use that?"
   ]
  },
  {
   "cell_type": "code",
   "execution_count": 58,
   "metadata": {
    "deletable": false,
    "nbgrader": {
     "cell_type": "code",
     "checksum": "1d00a47bd149556fb9f59904fd795fe8",
     "grade": false,
     "grade_id": "cell-a6cb624ad3e80479",
     "locked": false,
     "schema_version": 3,
     "solution": true,
     "task": false
    }
   },
   "outputs": [],
   "source": [
    "from math import sqrt\n",
    "\n",
    "def heron(a, b, c):\n",
    "    s=(a+b+c)/2\n",
    "    return sqrt( s*(s-a)*(s-b)*(s-c) )"
   ]
  },
  {
   "cell_type": "code",
   "execution_count": 59,
   "metadata": {
    "deletable": false,
    "editable": false,
    "nbgrader": {
     "cell_type": "code",
     "checksum": "ea94c2e58ef77556d4f2778d27bd9e64",
     "grade": false,
     "grade_id": "cell-63c8766f79feedf7",
     "locked": true,
     "schema_version": 3,
     "solution": false,
     "task": false
    }
   },
   "outputs": [
    {
     "name": "stdout",
     "output_type": "stream",
     "text": [
      "Question #4 - Test Case #1: You Passed!\n",
      "Question #4 - Test Case #2: You Passed!\n"
     ]
    }
   ],
   "source": [
    "print(\"Question #4 - Test Case #1:\", \n",
    "      tester(heron(15, 20, 25), 150))\n",
    "print(\"Question #4 - Test Case #2:\", \n",
    "      tester(round(heron(1, 1, sqrt(2)), 1), 0.5))"
   ]
  },
  {
   "cell_type": "code",
   "execution_count": null,
   "metadata": {
    "deletable": false,
    "editable": false,
    "nbgrader": {
     "cell_type": "code",
     "checksum": "afdd491d1a212a3cba561621a1e9ca7d",
     "grade": true,
     "grade_id": "cell-7cc5a15c3d9434f0",
     "locked": true,
     "points": 1,
     "schema_version": 3,
     "solution": false,
     "task": false
    }
   },
   "outputs": [],
   "source": []
  },
  {
   "cell_type": "code",
   "execution_count": null,
   "metadata": {
    "deletable": false,
    "editable": false,
    "nbgrader": {
     "cell_type": "code",
     "checksum": "dd7a0c226c24a4c86e454354fae7fa6c",
     "grade": true,
     "grade_id": "cell-fe23f1e7e37de4ac",
     "locked": true,
     "points": 1,
     "schema_version": 3,
     "solution": false,
     "task": false
    }
   },
   "outputs": [],
   "source": []
  },
  {
   "cell_type": "code",
   "execution_count": null,
   "metadata": {
    "deletable": false,
    "editable": false,
    "nbgrader": {
     "cell_type": "code",
     "checksum": "5be01509c69e0af1f741d3193f7beaec",
     "grade": true,
     "grade_id": "cell-0284e9eee7d28780",
     "locked": true,
     "points": 1,
     "schema_version": 3,
     "solution": false,
     "task": false
    }
   },
   "outputs": [],
   "source": []
  },
  {
   "cell_type": "markdown",
   "metadata": {
    "deletable": false,
    "editable": false,
    "nbgrader": {
     "cell_type": "markdown",
     "checksum": "2d76d4a8026beaad872d5a1ff6d039d6",
     "grade": false,
     "grade_id": "cell-2dbba020f64f4b36",
     "locked": true,
     "schema_version": 3,
     "solution": false,
     "task": false
    }
   },
   "source": [
    "## Question 5: Quadratic Formula (3 points)\n",
    "\n",
    "Everyone knows the Quadratic Formula by this point, so let's calculate it!\n",
    "\n",
    "Write a function `quadratic` that takes in the coefficients of a quadratic equation and returns the roots of the equation.\n",
    "\n",
    "$$ x_{1},x_{2} = \\frac{-b \\pm \\sqrt{b^2 - 4ac}}{2a} $$\n",
    "\n",
    "Root 1 will be the result of $ x_1 = \\frac{-b + \\sqrt{b^2 - 4ac}}{2a} $ and root 2 will be the result of $ x_2 = \\frac{-b - \\sqrt{b^2 - 4ac}}{2a} $.\n",
    "\n",
    "You may assume that $ b^2 - 4ac $ is always greater than or equal to 0, so the `sqrt` function will not error."
   ]
  },
  {
   "cell_type": "code",
   "execution_count": 60,
   "metadata": {
    "deletable": false,
    "nbgrader": {
     "cell_type": "code",
     "checksum": "7d3bb4121f553300ad23634138698f74",
     "grade": false,
     "grade_id": "cell-c74b53263a121c48",
     "locked": false,
     "schema_version": 3,
     "solution": true,
     "task": false
    }
   },
   "outputs": [],
   "source": [
    "from math import sqrt\n",
    "\n",
    "def quadratic(a, b, c):\n",
    "    x1 = (-b+sqrt((b**2) - (4*a*c)))/(2*a)\n",
    "    x2 = (-b-sqrt((b**2) - (4*a*c)))/(2*a)\n",
    "    \n",
    "    return (x1, x2)"
   ]
  },
  {
   "cell_type": "code",
   "execution_count": 61,
   "metadata": {
    "deletable": false,
    "editable": false,
    "nbgrader": {
     "cell_type": "code",
     "checksum": "948a39d35598edfa45d161808eef023a",
     "grade": false,
     "grade_id": "cell-253d882a4ddacdee",
     "locked": true,
     "schema_version": 3,
     "solution": false,
     "task": false
    }
   },
   "outputs": [
    {
     "name": "stdout",
     "output_type": "stream",
     "text": [
      "Question #5 - Test Case #1: You Passed!\n",
      "Question #5 - Test Case #2: You Passed!\n"
     ]
    }
   ],
   "source": [
    "print(\"Question #5 - Test Case #1:\", \n",
    "      'You Passed!' if (\n",
    "          quadratic(1, 7, 12) == (-3.0, -4.0)\n",
    "          or quadratic(1, 7, 12) == (-4.0, -3.0)\n",
    "      ) else 'You Failed.')\n",
    "print(\"Question #5 - Test Case #2:\", \n",
    "      'You Passed!' if (\n",
    "          quadratic(5, 6, 1) == (-0.2, -1.0)\n",
    "          or quadratic(5, 6, 1) == (-1.0, -0.2)\n",
    "      ) else 'You Failed!')"
   ]
  },
  {
   "cell_type": "code",
   "execution_count": null,
   "metadata": {
    "deletable": false,
    "editable": false,
    "nbgrader": {
     "cell_type": "code",
     "checksum": "952b205c57b4b4a1d10314789aeb12f6",
     "grade": true,
     "grade_id": "cell-d199cd5ac89814fd",
     "locked": true,
     "points": 1,
     "schema_version": 3,
     "solution": false,
     "task": false
    }
   },
   "outputs": [],
   "source": []
  },
  {
   "cell_type": "code",
   "execution_count": null,
   "metadata": {
    "deletable": false,
    "editable": false,
    "nbgrader": {
     "cell_type": "code",
     "checksum": "16bee3a22c61f4a9219db65a987268cd",
     "grade": true,
     "grade_id": "cell-d0657db352598e7f",
     "locked": true,
     "points": 1,
     "schema_version": 3,
     "solution": false,
     "task": false
    }
   },
   "outputs": [],
   "source": []
  },
  {
   "cell_type": "code",
   "execution_count": null,
   "metadata": {
    "deletable": false,
    "editable": false,
    "nbgrader": {
     "cell_type": "code",
     "checksum": "844d2d13550171c231f6fa321ba28eee",
     "grade": true,
     "grade_id": "cell-e6c7e69b41a32701",
     "locked": true,
     "points": 1,
     "schema_version": 3,
     "solution": false,
     "task": false
    }
   },
   "outputs": [],
   "source": []
  },
  {
   "cell_type": "markdown",
   "metadata": {
    "deletable": false,
    "editable": false,
    "nbgrader": {
     "cell_type": "markdown",
     "checksum": "45568a9846874c47d8d940bf769f52f9",
     "grade": false,
     "grade_id": "cell-fc96ef2a80cd9439",
     "locked": true,
     "schema_version": 3,
     "solution": false,
     "task": false
    }
   },
   "source": [
    "## Question 6: Newton's Law of Universal Gravitation (2 points)\n",
    "\n",
    "Newton's law of universal gravitation states that the force of gravity exerted on two masses is equal to the product of their masses and the universal gravitational constant `G`, divided by the square of the distance separating them: \n",
    "\n",
    "$$ F_{G} = \\frac{Gm_{1} \\cdot m_{2}}{d^{2}} $$\n",
    "\n",
    "Implement a python function `gravityClassic` which, given masses `m1`, `m2`, and the distance between them `d`, returns the force of gravity exerted on them."
   ]
  },
  {
   "cell_type": "code",
   "execution_count": 62,
   "metadata": {
    "deletable": false,
    "nbgrader": {
     "cell_type": "code",
     "checksum": "653a71ad266cf7d3dc9af0ef18f965e6",
     "grade": false,
     "grade_id": "cell-823dd0bd327b902e",
     "locked": false,
     "schema_version": 3,
     "solution": true,
     "task": false
    }
   },
   "outputs": [],
   "source": [
    "def gravityClassic(m1, m2, d):\n",
    "    G = 6.674e-11\n",
    "    return (G*m1*m2)/(d**2)\n"
   ]
  },
  {
   "cell_type": "code",
   "execution_count": 63,
   "metadata": {
    "deletable": false,
    "editable": false,
    "nbgrader": {
     "cell_type": "code",
     "checksum": "a5c0b93d3d59069bbac7f45c2e9d69e8",
     "grade": false,
     "grade_id": "cell-0411b79129b607bc",
     "locked": true,
     "schema_version": 3,
     "solution": false,
     "task": false
    }
   },
   "outputs": [
    {
     "name": "stdout",
     "output_type": "stream",
     "text": [
      "Question #6 - Test Case #1: You Passed!\n",
      "Question #6 - Test Case #2: You Passed!\n"
     ]
    }
   ],
   "source": [
    "print(\"Question #6 - Test Case #1:\", \n",
    "      tester(gravityClassic(3, 3, 3), 6.674e-11))\n",
    "print(\"Question #6 - Test Case #2:\", \n",
    "      tester(round(gravityClassic(597200, 69300, 3), 1), 0.3))"
   ]
  },
  {
   "cell_type": "code",
   "execution_count": null,
   "metadata": {
    "deletable": false,
    "editable": false,
    "nbgrader": {
     "cell_type": "code",
     "checksum": "ec405c38940975450533236f795e9835",
     "grade": true,
     "grade_id": "cell-e4a3f28d8de5b706",
     "locked": true,
     "points": 1,
     "schema_version": 3,
     "solution": false,
     "task": false
    }
   },
   "outputs": [],
   "source": []
  },
  {
   "cell_type": "code",
   "execution_count": null,
   "metadata": {
    "deletable": false,
    "editable": false,
    "nbgrader": {
     "cell_type": "code",
     "checksum": "2ff5fcebede1a84b7b06f5a69039a4ef",
     "grade": true,
     "grade_id": "cell-7be72004b399a20d",
     "locked": true,
     "points": 1,
     "schema_version": 3,
     "solution": false,
     "task": false
    }
   },
   "outputs": [],
   "source": []
  },
  {
   "cell_type": "markdown",
   "metadata": {
    "deletable": false,
    "editable": false,
    "nbgrader": {
     "cell_type": "markdown",
     "checksum": "267cdd8b63b60b7f81ee37a2f8424610",
     "grade": false,
     "grade_id": "cell-3df422fb35f70ecb",
     "locked": true,
     "schema_version": 3,
     "solution": false,
     "task": false
    }
   },
   "source": [
    "## Bonus: Dr. Cooper's Breakfast Egg (4 points)\n",
    "\n",
    "Dr. Chicken Cooper is serious about his breakfast eggs. He is aware that as an egg cooks, the proteins first denature and then coagulate. When the temperature exceeds a critical point, reactions begin and proceed faster as the temperature increases.\n",
    "\n",
    "- In the egg white the proteins start to coagulate for temperatures above 63 degrees celsius, while in the yolk the proteins start to coagulate for temperatures above 70 degrees celsius.\n",
    "- For a soft-boiled egg, the egg white needs to have been heated long enough to coagulate at a temperature above 63 degrees celsius, but the yolk should not be heated above 70 degrees celsius. \n",
    "- For a hard boiled egg, the center of the yolk should be allowed to reach 70 degrees celsius. The following formula expresses the time t it takes (in seconds) for the center of the yolk to reach the temperature:\n",
    "\n",
    "$$ \\large t = \\frac{M^{2/3}cϱ^{1/3}}{K π^2 (4π / 3)^{2/3}} \\ln{\\left[0.76\\frac{T_0 - T_w}{T_y - T_w}\\right]} $$\n",
    "\n",
    "Here, $M$, $ϱ$, $c$, and $K$ are properties of the egg: \n",
    "\n",
    "- $M$ is the mass of the egg\n",
    "- $ϱ$ is the density, which is $1.038g~cm^{-3}$ for eggs\n",
    "- $c$ is the specific heat capacity for eggs, which is $3.7J~g^{-1}~K^{-1}$\n",
    "- $K$ is the thermal conductivity of an egg, which is $5.4 \\cdot 10^{-3}W~cm^{-1}~K^{-1}$\n",
    "\n",
    "Furthermore:\n",
    "- $T_w$ is the temperature (in °C) of the boiling water, 100 °C\n",
    "- $T_y$ will just be 70 °C for simplicity\n",
    "- $T_0$ is the original temperature (in °C) of the egg before being put in the water\n",
    "\n",
    "Write a Python function `correctCookingTime` that helps Dr. Cooper to determine the correct cooking time. The function should take $M$ and $T_0$ as parameters. Note, $ln$ in python is the natural logarithm, `log()`.\n",
    "\n",
    "For testing purposes, Run your implementation with $M=47g$ for a small egg and $M=67g$ for a larger egg and with $T_0$=4°C for an egg taken from the fridge and $T_0$=20°C for an egg with room temperature.\n",
    "\n",
    "Do not do this all in 1 step. Break every part into it's own line and combine them all at the end, similar to Question 1. You must be accurate to 4 decimal places to get the marks!"
   ]
  },
  {
   "cell_type": "code",
   "execution_count": 41,
   "metadata": {
    "deletable": false,
    "nbgrader": {
     "cell_type": "code",
     "checksum": "0ea90fccb15969fd5c77a4771dde4262",
     "grade": false,
     "grade_id": "cell-21e4c17660df3c83",
     "locked": false,
     "schema_version": 3,
     "solution": true,
     "task": false
    }
   },
   "outputs": [],
   "source": [
    "from math import log, pi\n",
    "\n",
    "\n",
    "def correctCookingTime(m, t0):\n",
    "    # Fill these in with the correct values\n",
    "    c = 3.7\n",
    "    q = 1.038\n",
    "    K = 5.4*(10**-3)\n",
    "    Tw = 100\n",
    "    Ty = 70\n",
    "    \n",
    "    #note: I could type everything below this comment in less lines, but I thought it would be nearly impossible to read\n",
    "    top1 = (m**(2/3))*c*(q**(1/3))\n",
    "    bottom1 = K*(pi**2)*((4*pi/3)**(2/3))\n",
    "    \n",
    "    top2 = 0.76*(t0-Tw)\n",
    "    bottom2 = Ty-Tw\n",
    "    \n",
    "    return top1/bottom1 * log( top2/bottom2 )"
   ]
  },
  {
   "cell_type": "code",
   "execution_count": 42,
   "metadata": {
    "deletable": false,
    "editable": false,
    "nbgrader": {
     "cell_type": "code",
     "checksum": "e142144e802de842e1fd984496f77ed4",
     "grade": false,
     "grade_id": "cell-f2bee2e1c187930f",
     "locked": true,
     "schema_version": 3,
     "solution": false,
     "task": false
    }
   },
   "outputs": [
    {
     "name": "stdout",
     "output_type": "stream",
     "text": [
      "Bonus Question - Test Case #1: Passed!\n",
      "Bonus Question - Test Case #2: Passed!\n",
      "Bonus Question - Test Case #3: Passed!\n",
      "Bonus Question - Test Case #3: Passed!\n"
     ]
    }
   ],
   "source": [
    "from math import isclose # Will tell you if a number is close to the answer\n",
    "\n",
    "print(\"Bonus Question - Test Case #1:\", \n",
    "      'Passed!' if \n",
    "          isclose(\n",
    "              correctCookingTime(47, 4), 313.09454902221637, \n",
    "              rel_tol=1e-4 # Accuracy to 4 decimal places\n",
    "          )\n",
    "      else 'You Failed!')\n",
    "\n",
    "print(\"Bonus Question - Test Case #2:\", \n",
    "      'Passed!' if \n",
    "          isclose(\n",
    "              correctCookingTime(47, 20), 248.86253747844736, \n",
    "              rel_tol=1e-4 # Accuracy to 4 decimal places\n",
    "          )\n",
    "      else 'You Failed!')\n",
    "\n",
    "print(\"Bonus Question - Test Case #3:\", \n",
    "      'Passed!' if \n",
    "          isclose(\n",
    "              correctCookingTime(67, 4), 396.5763425294507, \n",
    "              rel_tol=1e-4 # Accuracy to 4 decimal places\n",
    "          )\n",
    "      else 'You Failed!')\n",
    "\n",
    "print(\"Bonus Question - Test Case #3:\", \n",
    "      'Passed!' if \n",
    "          isclose(\n",
    "              correctCookingTime(67, 20), 315.2178637859262, \n",
    "              rel_tol=1e-4 # Accuracy to 4 decimal places\n",
    "          )\n",
    "      else 'You Failed!')"
   ]
  },
  {
   "cell_type": "code",
   "execution_count": null,
   "metadata": {
    "deletable": false,
    "editable": false,
    "nbgrader": {
     "cell_type": "code",
     "checksum": "20ef1061371e90760924a7a408de894f",
     "grade": true,
     "grade_id": "cell-3c9fada9a5f2cbe5",
     "locked": true,
     "points": 1,
     "schema_version": 3,
     "solution": false,
     "task": false
    }
   },
   "outputs": [],
   "source": []
  },
  {
   "cell_type": "code",
   "execution_count": null,
   "metadata": {
    "deletable": false,
    "editable": false,
    "nbgrader": {
     "cell_type": "code",
     "checksum": "5d965c2d37f440d1fecb698570cb46f1",
     "grade": true,
     "grade_id": "cell-a687cddaf3fd641e",
     "locked": true,
     "points": 1,
     "schema_version": 3,
     "solution": false,
     "task": false
    }
   },
   "outputs": [],
   "source": []
  },
  {
   "cell_type": "code",
   "execution_count": null,
   "metadata": {
    "deletable": false,
    "editable": false,
    "nbgrader": {
     "cell_type": "code",
     "checksum": "588967b0aec7d1034831f305775fedc3",
     "grade": true,
     "grade_id": "cell-c25a36eb572a831b",
     "locked": true,
     "points": 1,
     "schema_version": 3,
     "solution": false,
     "task": false
    }
   },
   "outputs": [],
   "source": []
  },
  {
   "cell_type": "code",
   "execution_count": null,
   "metadata": {
    "deletable": false,
    "editable": false,
    "nbgrader": {
     "cell_type": "code",
     "checksum": "e770c0a8d11ffe9bc04c5ea4cdc4a8d5",
     "grade": true,
     "grade_id": "cell-2eed98ee1f46e589",
     "locked": true,
     "points": 1,
     "schema_version": 3,
     "solution": false,
     "task": false
    }
   },
   "outputs": [],
   "source": []
  }
 ],
 "metadata": {
  "kernelspec": {
   "display_name": "Python 3",
   "language": "python",
   "name": "python3"
  },
  "language_info": {
   "codemirror_mode": {
    "name": "ipython",
    "version": 3
   },
   "file_extension": ".py",
   "mimetype": "text/x-python",
   "name": "python",
   "nbconvert_exporter": "python",
   "pygments_lexer": "ipython3",
   "version": "3.8.5"
  }
 },
 "nbformat": 4,
 "nbformat_minor": 2
}
